{
 "cells": [
  {
   "cell_type": "markdown",
   "metadata": {},
   "source": "# Core\n\n> Core utilities and helpers for the technical blog following fast.ai conventions",
   "outputs": []
  },
  {
   "cell_type": "code",
   "execution_count": null,
   "metadata": {},
   "outputs": [],
   "source": [
    "#| default_exp core"
   ]
  },
  {
   "cell_type": "code",
   "source": "#| export\nfrom fastcore.basics import *\nfrom pathlib import Path\nimport re\n\n__all__ = ['get_nb_url', 'slugify', 'read_meta']",
   "metadata": {},
   "outputs": []
  },
  {
   "cell_type": "code",
   "metadata": {},
   "outputs": [],
   "source": "#| hide\nfrom nbdev.showdoc import *\nfrom fastcore.test import *"
  },
  {
   "cell_type": "code",
   "source": "#| export\ndef get_nb_url(nb_path: Path) -> str:\n    \"Convert notebook `nb_path` to documentation URL\"\n    # Remove .ipynb extension and nbs/ prefix\n    rel_path = str(nb_path).replace('nbs/', '').replace('.ipynb', '')\n    return f\"/{rel_path}/\" if rel_path != 'index' else \"/\"",
   "metadata": {},
   "outputs": []
  },
  {
   "cell_type": "code",
   "source": "# Test get_nb_url\ntest_eq(get_nb_url(Path('nbs/index.ipynb')), '/')\ntest_eq(get_nb_url(Path('nbs/rbe/intro.ipynb')), '/rbe/intro/')\ntest_eq(get_nb_url(Path('nbs/00_core.ipynb')), '/00_core/')",
   "metadata": {},
   "outputs": []
  },
  {
   "cell_type": "code",
   "source": "#| export\ndef slugify(text: str) -> str:\n    \"Convert `text` to URL-friendly slug\"\n    # Convert to lowercase and replace spaces with hyphens\n    slug = text.lower().strip()\n    slug = re.sub(r'[^\\w\\s-]', '', slug)\n    slug = re.sub(r'[-\\s]+', '-', slug)\n    return slug",
   "metadata": {},
   "outputs": []
  },
  {
   "cell_type": "code",
   "source": "# Test slugify\ntest_eq(slugify(\"Hello World\"), \"hello-world\")\ntest_eq(slugify(\"Fast.AI Style Guide\"), \"fastai-style-guide\")\ntest_eq(slugify(\"  Multiple   Spaces  \"), \"multiple-spaces\")\ntest_eq(slugify(\"Special!@#$%^Characters\"), \"specialcharacters\")",
   "metadata": {},
   "outputs": []
  },
  {
   "cell_type": "code",
   "source": "# Test read_meta on this very notebook\nmeta = read_meta(Path('00_core.ipynb'))\nprint(f\"Title: '{meta['title']}'\")\nprint(f\"Description: '{meta['description']}'\")\n# Strip whitespace for comparison\ntest_eq(meta['title'].strip(), 'Core')\ntest_eq(meta['description'].strip(), 'Core utilities and helpers for the technical blog following fast.ai conventions')",
   "metadata": {},
   "outputs": []
  },
  {
   "cell_type": "code",
   "source": "# Test read_meta on this very notebook\nmeta = read_meta(Path('00_core.ipynb'))\ntest_eq(meta['title'], 'Core')\ntest_eq(meta['description'], 'Core utilities and helpers for the technical blog following fast.ai conventions')",
   "metadata": {},
   "outputs": []
  },
  {
   "cell_type": "code",
   "execution_count": null,
   "metadata": {},
   "outputs": [],
   "source": [
    "#| hide\n",
    "import nbdev; nbdev.nbdev_export()"
   ]
  }
 ],
 "metadata": {
  "kernelspec": {
   "display_name": "python3",
   "language": "python",
   "name": "python3"
  }
 },
 "nbformat": 4,
 "nbformat_minor": 4
}