{
 "cells": [
  {
   "cell_type": "markdown",
   "metadata": {},
   "source": [
    "# Core\n",
    "\n",
    "> Core utilities and helpers for the technical blog following fast.ai conventions"
   ]
  },
  {
   "cell_type": "code",
   "execution_count": null,
   "metadata": {},
   "outputs": [],
   "source": [
    "#| default_exp core"
   ]
  },
  {
   "cell_type": "code",
   "execution_count": null,
   "metadata": {},
   "outputs": [],
   "source": [
    "#| export\n",
    "from fastcore.basics import *\n",
    "from pathlib import Path\n",
    "import re\n",
    "\n",
    "__all__ = ['get_nb_url', 'slugify', 'read_meta']"
   ]
  },
  {
   "cell_type": "code",
   "execution_count": null,
   "metadata": {},
   "outputs": [],
   "source": [
    "#| hide\n",
    "from nbdev.showdoc import *\n",
    "from fastcore.test import *"
   ]
  },
  {
   "cell_type": "code",
   "execution_count": null,
   "metadata": {},
   "outputs": [],
   "source": [
    "#| export\n",
    "def get_nb_url(nb_path: Path) -> str:\n",
    "    \"Convert notebook `nb_path` to documentation URL\"\n",
    "    # Remove .ipynb extension and nbs/ prefix\n",
    "    rel_path = str(nb_path).replace('nbs/', '').replace('.ipynb', '')\n",
    "    return f\"/{rel_path}/\" if rel_path != 'index' else \"/\""
   ]
  },
  {
   "cell_type": "code",
   "execution_count": null,
   "metadata": {},
   "outputs": [],
   "source": [
    "# Test get_nb_url\n",
    "test_eq(get_nb_url(Path('nbs/index.ipynb')), '/')\n",
    "test_eq(get_nb_url(Path('nbs/rbe/intro.ipynb')), '/rbe/intro/')\n",
    "test_eq(get_nb_url(Path('nbs/00_core.ipynb')), '/00_core/')"
   ]
  },
  {
   "cell_type": "code",
   "execution_count": null,
   "metadata": {},
   "outputs": [],
   "source": [
    "#| export\n",
    "def slugify(text: str) -> str:\n",
    "    \"Convert `text` to URL-friendly slug\"\n",
    "    # Convert to lowercase and replace spaces with hyphens\n",
    "    slug = text.lower().strip()\n",
    "    slug = re.sub(r'[^\\w\\s-]', '', slug)\n",
    "    slug = re.sub(r'[-\\s]+', '-', slug)\n",
    "    return slug"
   ]
  },
  {
   "cell_type": "code",
   "execution_count": null,
   "metadata": {},
   "outputs": [],
   "source": [
    "#| export\n",
    "def read_meta(nb_path: Path) -> dict:\n",
    "    \"Extract metadata from notebook `nb_path`\"\n",
    "    import json\n",
    "    \n",
    "    # Read the notebook file\n",
    "    with open(nb_path, 'r', encoding='utf-8') as f:\n",
    "        nb_data = json.load(f)\n",
    "    \n",
    "    # Extract title and description from first markdown cell\n",
    "    cells = nb_data.get('cells', [])\n",
    "    \n",
    "    title = \"Untitled\"\n",
    "    description = \"\"\n",
    "    \n",
    "    for cell in cells:\n",
    "        if cell.get('cell_type') == 'markdown':\n",
    "            source = ''.join(cell.get('source', []))\n",
    "            lines = source.split('\\n')\n",
    "            \n",
    "            # Look for title (# header)\n",
    "            for line in lines:\n",
    "                if line.startswith('# '):\n",
    "                    title = line[2:].strip()\n",
    "                    break\n",
    "            \n",
    "            # Look for description (> blockquote)\n",
    "            for line in lines:\n",
    "                if line.startswith('> '):\n",
    "                    description = line[2:].strip()\n",
    "                    break\n",
    "            \n",
    "            break\n",
    "    \n",
    "    return {\n",
    "        'title': title,\n",
    "        'description': description\n",
    "    }"
   ]
  },
  {
   "cell_type": "code",
   "execution_count": null,
   "metadata": {},
   "outputs": [],
   "source": [
    "# Test slugify\n",
    "test_eq(slugify(\"Hello World\"), \"hello-world\")\n",
    "test_eq(slugify(\"Fast.AI Style Guide\"), \"fastai-style-guide\")\n",
    "test_eq(slugify(\"  Multiple   Spaces  \"), \"multiple-spaces\")\n",
    "test_eq(slugify(\"Special!@#$%^Characters\"), \"specialcharacters\")"
   ]
  },
  {
   "cell_type": "code",
   "execution_count": null,
   "metadata": {},
   "outputs": [
    {
     "ename": "NameError",
     "evalue": "name 'read_meta' is not defined",
     "output_type": "error",
     "traceback": [
      "\u001b[31m---------------------------------------------------------------------------\u001b[39m",
      "\u001b[31mNameError\u001b[39m                                 Traceback (most recent call last)",
      "\u001b[36mCell\u001b[39m\u001b[36m \u001b[39m\u001b[32mIn[8]\u001b[39m\u001b[32m, line 2\u001b[39m\n\u001b[32m      1\u001b[39m \u001b[38;5;66;03m# Test read_meta on this very notebook\u001b[39;00m\n\u001b[32m----> \u001b[39m\u001b[32m2\u001b[39m meta = \u001b[43mread_meta\u001b[49m(Path(\u001b[33m'\u001b[39m\u001b[33m00_core.ipynb\u001b[39m\u001b[33m'\u001b[39m))\n\u001b[32m      3\u001b[39m \u001b[38;5;28mprint\u001b[39m(\u001b[33mf\u001b[39m\u001b[33m\"\u001b[39m\u001b[33mTitle: \u001b[39m\u001b[33m'\u001b[39m\u001b[38;5;132;01m{\u001b[39;00mmeta[\u001b[33m'\u001b[39m\u001b[33mtitle\u001b[39m\u001b[33m'\u001b[39m]\u001b[38;5;132;01m}\u001b[39;00m\u001b[33m'\u001b[39m\u001b[33m\"\u001b[39m)\n\u001b[32m      4\u001b[39m \u001b[38;5;28mprint\u001b[39m(\u001b[33mf\u001b[39m\u001b[33m\"\u001b[39m\u001b[33mDescription: \u001b[39m\u001b[33m'\u001b[39m\u001b[38;5;132;01m{\u001b[39;00mmeta[\u001b[33m'\u001b[39m\u001b[33mdescription\u001b[39m\u001b[33m'\u001b[39m]\u001b[38;5;132;01m}\u001b[39;00m\u001b[33m'\u001b[39m\u001b[33m\"\u001b[39m)\n",
      "\u001b[31mNameError\u001b[39m: name 'read_meta' is not defined"
     ]
    }
   ],
   "source": [
    "# Test read_meta on this very notebook\n",
    "meta = read_meta(Path('00_core.ipynb'))\n",
    "print(f\"Title: '{meta['title']}'\")\n",
    "print(f\"Description: '{meta['description']}'\")\n",
    "# Strip whitespace for comparison\n",
    "test_eq(meta['title'].strip(), 'Core')\n",
    "test_eq(meta['description'].strip(), 'Core utilities and helpers for the technical blog following fast.ai conventions')"
   ]
  },
  {
   "cell_type": "code",
   "execution_count": null,
   "metadata": {},
   "outputs": [],
   "source": [
    "# Test read_meta on this very notebook\n",
    "meta = read_meta(Path('00_core.ipynb'))\n",
    "test_eq(meta['title'], 'Core')\n",
    "test_eq(meta['description'], 'Core utilities and helpers for the technical blog following fast.ai conventions')"
   ]
  },
  {
   "cell_type": "code",
   "execution_count": null,
   "metadata": {},
   "outputs": [],
   "source": [
    "#| hide\n",
    "import nbdev; nbdev.nbdev_export()"
   ]
  }
 ],
 "metadata": {
  "kernelspec": {
   "display_name": "python3",
   "language": "python",
   "name": "python3"
  }
 },
 "nbformat": 4,
 "nbformat_minor": 4
}
