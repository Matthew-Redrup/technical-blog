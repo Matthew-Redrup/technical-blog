{
 "cells": [
  {
   "cell_type": "markdown",
   "metadata": {},
   "source": [
    "# RBE\n",
    "\n",
    "> Main imports and convenience functions for Recursive Bayesian Estimation"
   ]
  },
  {
   "cell_type": "code",
   "execution_count": null,
   "metadata": {},
   "outputs": [],
   "source": [
    "#| default_exp rbe"
   ]
  },
  {
   "cell_type": "code",
   "execution_count": null,
   "metadata": {},
   "outputs": [],
   "source": [
    "#| hide\n",
    "from nbdev.showdoc import *"
   ]
  },
  {
   "cell_type": "code",
   "execution_count": null,
   "metadata": {},
   "outputs": [],
   "source": [
    "#| export\n",
    "# Re-export everything from submodules for convenience\n",
    "from technical_blog.rbe.probability import *\n",
    "from technical_blog.rbe.bayes_core import *\n",
    "from technical_blog.rbe.particle_filter import *\n",
    "from technical_blog.rbe.estimator import *\n",
    "from technical_blog.rbe.viz import *"
   ]
  },
  {
   "cell_type": "markdown",
   "metadata": {},
   "source": [
    "## Quick Start\n",
    "\n",
    "This module provides convenient access to all RBE functionality through a single import:"
   ]
  },
  {
   "cell_type": "code",
   "execution_count": null,
   "metadata": {},
   "outputs": [],
   "source": [
    "# Example usage\n",
    "from technical_blog.rbe import *\n",
    "\n",
    "# Now you have access to all functions:\n",
    "# - Probability: normalize, sample, entropy, kl_div\n",
    "# - Bayes: update, sequential, predictive\n",
    "# - Particle Filter: init, predict, update, resample, step, run\n",
    "# - Estimator: estimate, adaptive, metrics\n",
    "# - Visualization: particles, beliefs, comparison, summary"
   ]
  },
  {
   "cell_type": "markdown",
   "metadata": {},
   "source": [
    "## Module Organization\n",
    "\n",
    "The RBE functionality is organized into focused modules:\n",
    "\n",
    "- **`probability`**: Basic probability operations (normalize, sample, entropy)\n",
    "- **`bayes_core`**: Bayesian inference functions (update, sequential)\n",
    "- **`particle_filter`**: Particle filter implementation\n",
    "- **`estimator`**: RBE estimator implementations\n",
    "- **`viz`**: Visualization utilities\n",
    "\n",
    "You can import from specific modules if you only need certain functionality:"
   ]
  },
  {
   "cell_type": "code",
   "execution_count": null,
   "metadata": {},
   "outputs": [],
   "source": [
    "# Import only what you need\n",
    "from technical_blog.rbe.probability import normalize, entropy\n",
    "from technical_blog.rbe.bayes_core import update\n",
    "from technical_blog.rbe.particle_filter import run\n",
    "from technical_blog.rbe.viz import summary"
   ]
  },
  {
   "cell_type": "markdown",
   "metadata": {},
   "source": [
    "## Backward Compatibility\n",
    "\n",
    "For backward compatibility with existing code, we provide aliases for the old function names:"
   ]
  },
  {
   "cell_type": "code",
   "execution_count": null,
   "metadata": {},
   "outputs": [],
   "source": [
    "#| export\n",
    "# Aliases for backward compatibility\n",
    "prob_normalize = normalize\n",
    "prob_sample = sample\n",
    "prob_entropy = entropy\n",
    "prob_kl_div = kl_div\n",
    "bayes_update = update\n",
    "bayes_sequential = sequential\n",
    "bayes_posterior_predictive = predictive\n",
    "pf_init = init\n",
    "pf_predict = predict\n",
    "pf_update = update\n",
    "pf_resample = resample\n",
    "pf_step = step\n",
    "pf_effective_size = eff_size\n",
    "rbe_estimator = estimate\n",
    "rbe_adaptive = adaptive\n",
    "rbe_metrics = metrics\n",
    "viz_particles = particles\n",
    "viz_beliefs = beliefs\n",
    "viz_comparison = comparison\n",
    "viz_rbe_summary = summary"
   ]
  },
  {
   "cell_type": "markdown",
   "metadata": {},
   "source": [
    "## Export"
   ]
  },
  {
   "cell_type": "code",
   "execution_count": null,
   "metadata": {},
   "outputs": [],
   "source": [
    "#| export\n",
    "__all__ = [\n",
    "    # Modern names (from submodules)\n",
    "    'normalize', 'sample', 'entropy', 'kl_div', 'js_div', 'eff_size',\n",
    "    'categorical', 'uniform', 'from_counts',\n",
    "    'update', 'sequential', 'predictive', 'bayes_factor', 'interpret_bf',\n",
    "    'beta_binomial_update', 'normal_normal_update',\n",
    "    'init', 'predict', 'update', 'resample', 'step', 'run', 'auxiliary_pf_step',\n",
    "    'estimate', 'adaptive', 'multi_model', 'metrics', 'compare_online_batch',\n",
    "    'set_style', 'particles', 'beliefs', 'comparison', 'summary',\n",
    "    'animate_particles', 'uncertainty_bands',\n",
    "    \n",
    "    # Legacy names (for backward compatibility)\n",
    "    'prob_normalize', 'prob_sample', 'prob_entropy', 'prob_kl_div',\n",
    "    'bayes_update', 'bayes_sequential', 'bayes_posterior_predictive',\n",
    "    'pf_init', 'pf_predict', 'pf_update', 'pf_resample', 'pf_step', 'pf_effective_size',\n",
    "    'rbe_estimator', 'rbe_adaptive', 'rbe_metrics',\n",
    "    'viz_particles', 'viz_beliefs', 'viz_comparison', 'viz_rbe_summary'\n",
    "]"
   ]
  }
 ],
 "metadata": {
  "kernelspec": {
   "display_name": "python3",
   "language": "python",
   "name": "python3"
  }
 },
 "nbformat": 4,
 "nbformat_minor": 4
}
