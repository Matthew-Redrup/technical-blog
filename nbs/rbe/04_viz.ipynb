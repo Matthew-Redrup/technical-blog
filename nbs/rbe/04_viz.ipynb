{
 "cells": [
  {
   "cell_type": "markdown",
   "metadata": {},
   "source": [
    "# Visualization\n",
    "\n",
    "> Visualization utilities for RBE - particles, beliefs, comparisons, and summaries"
   ]
  },
  {
   "cell_type": "code",
   "execution_count": null,
   "metadata": {},
   "outputs": [],
   "source": [
    "#| default_exp rbe.viz"
   ]
  },
  {
   "cell_type": "code",
   "execution_count": null,
   "metadata": {},
   "outputs": [],
   "source": [
    "#| hide\n",
    "from nbdev.showdoc import *"
   ]
  },
  {
   "cell_type": "code",
   "execution_count": null,
   "metadata": {},
   "outputs": [],
   "source": [
    "#| export\n",
    "import numpy as np\n",
    "import matplotlib.pyplot as plt\n",
    "import seaborn as sns\n",
    "from typing import Optional, List, Dict, Tuple, Union\n",
    "from fastcore.all import *\n",
    "from technical_blog.rbe.probability import eff_size"
   ]
  },
  {
   "cell_type": "markdown",
   "metadata": {},
   "source": [
    "## Style Configuration"
   ]
  },
  {
   "cell_type": "code",
   "execution_count": null,
   "metadata": {},
   "outputs": [],
   "source": [
    "#| export\n",
    "def set_style():\n",
    "    \"Set consistent plotting style for RBE visualizations\"\n",
    "    plt.style.use('seaborn-v0_8-darkgrid')\n",
    "    plt.rcParams['figure.facecolor'] = 'white'\n",
    "    plt.rcParams['axes.facecolor'] = 'white'\n",
    "    plt.rcParams['grid.alpha'] = 0.3\n",
    "    \n",
    "# Apply style\n",
    "set_style()"
   ]
  },
  {
   "cell_type": "markdown",
   "metadata": {},
   "source": [
    "## Particle Visualization"
   ]
  },
  {
   "cell_type": "code",
   "execution_count": null,
   "metadata": {},
   "outputs": [],
   "source": [
    "#| export\n",
    "def particles(particles, \n",
    "              weights, \n",
    "              title='Particle Distribution',             \n",
    "              figsize=(8, 6), alpha=0.6, ax=None):\n",
    "    \"Visualize `particles` with `weights`\"    \n",
    "    if ax is None:\n",
    "        fig, ax = plt.subplots(figsize=figsize)\n",
    "    else:\n",
    "        fig = ax.figure\n",
    "    if particles.shape[1] == 1:\n",
    "        # 1D case: weighted histogram\n",
    "        ax.hist(particles.flatten(), weights=weights, bins=30, alpha=alpha, density=True)\n",
    "        ax.set_xlabel('State')\n",
    "        ax.set_ylabel('Probability Density')\n",
    "    elif particles.shape[1] == 2:\n",
    "        # 2D case: scatter plot\n",
    "        scatter = ax.scatter(particles[:, 0], particles[:, 1], s=weights*1000, alpha=alpha)\n",
    "        ax.set_xlabel('State 1')\n",
    "        ax.set_ylabel('State 2')\n",
    "    ax.set_title(title)\n",
    "    return fig, ax"
   ]
  },
  {
   "cell_type": "code",
   "execution_count": null,
   "metadata": {},
   "outputs": [],
   "source": [
    "# Test particle visualization\n",
    "rng = np.random.default_rng(42)\n",
    "test_particles = rng.normal(0, 1, (100, 2))\n",
    "test_weights = rng.exponential(1, 100)\n",
    "test_weights = test_weights / np.sum(test_weights)\n",
    "\n",
    "ax = particles(test_particles, test_weights)\n",
    "plt.show()"
   ]
  },
  {
   "cell_type": "markdown",
   "metadata": {},
   "source": [
    "## Belief Evolution"
   ]
  },
  {
   "cell_type": "code",
   "execution_count": null,
   "metadata": {},
   "outputs": [],
   "source": [
    "#| export\n",
    "def beliefs(beliefs, time_steps=None, title='Belief Evolution', \n",
    "           figsize=(10, 6), labels=None, ax=None):\n",
    "    \"Visualize evolution of `beliefs` over `time_steps`\"\n",
    "    beliefs = np.array(beliefs)\n",
    "    if time_steps is None:\n",
    "        time_steps = np.arange(len(beliefs))\n",
    "    \n",
    "    if ax is None:\n",
    "        fig, ax = plt.subplots(figsize=figsize)\n",
    "    else:\n",
    "        fig = ax.figure\n",
    "    \n",
    "    if beliefs.ndim == 2:\n",
    "        # Multiple belief dimensions\n",
    "        for i in range(beliefs.shape[1]):\n",
    "            label = f'Belief {i+1}' if labels is None else labels[i]\n",
    "            ax.plot(time_steps, beliefs[:, i], label=label, marker='o', linewidth=2)\n",
    "        ax.legend()\n",
    "    else:\n",
    "        # Single belief dimension\n",
    "        ax.plot(time_steps, beliefs, marker='o', linewidth=2)\n",
    "    \n",
    "    ax.set_xlabel('Time Step')\n",
    "    ax.set_ylabel('Belief Value')\n",
    "    ax.set_title(title)\n",
    "    ax.grid(True, alpha=0.3)\n",
    "    return fig, ax"
   ]
  },
  {
   "cell_type": "code",
   "execution_count": null,
   "metadata": {},
   "outputs": [],
   "source": [
    "# Test belief visualization\n",
    "test_beliefs = np.random.random((10, 3))\n",
    "test_beliefs = test_beliefs / test_beliefs.sum(axis=1, keepdims=True)  # Normalize\n",
    "\n",
    "ax = beliefs(test_beliefs, labels=['Hypothesis A', 'Hypothesis B', 'Hypothesis C'])\n",
    "plt.show()"
   ]
  },
  {
   "cell_type": "markdown",
   "metadata": {},
   "source": [
    "## Method Comparison"
   ]
  },
  {
   "cell_type": "code",
   "execution_count": null,
   "metadata": {},
   "outputs": [],
   "source": [
    "#| export\n",
    "def comparison(methods_data, time_steps=None, title='Method Comparison',\n",
    "              figsize=(12, 8), metrics=['mse', 'mae']):\n",
    "    \"Compare multiple methods with `methods_data` dict\"\n",
    "    if time_steps is None:\n",
    "        # Infer time_steps from data\n",
    "        first_method = list(methods_data.keys())[0]\n",
    "        first_data = methods_data[first_method]\n",
    "        \n",
    "        if 'estimates' in first_data:\n",
    "            time_steps = np.arange(len(first_data['estimates']))\n",
    "        else:\n",
    "            # Use first available metric\n",
    "            available_metrics = [m for m in metrics if m in first_data]\n",
    "            if available_metrics:\n",
    "                time_steps = np.arange(len(first_data[available_metrics[0]]))\n",
    "            else:\n",
    "                time_steps = np.arange(10)  # Default\n",
    "    \n",
    "    n_metrics = len(metrics)\n",
    "    fig, axes = plt.subplots(n_metrics, 1, figsize=figsize, squeeze=False)\n",
    "    axes = axes.flatten()\n",
    "    \n",
    "    for i, metric in enumerate(metrics):\n",
    "        ax = axes[i]\n",
    "        \n",
    "        for method_name, method_data in methods_data.items():\n",
    "            if metric in method_data:\n",
    "                ax.plot(time_steps[:len(method_data[metric])], method_data[metric], \n",
    "                       label=method_name, marker='o', linewidth=2)\n",
    "        \n",
    "        ax.set_xlabel('Time Step')\n",
    "        ax.set_ylabel(metric.upper())\n",
    "        ax.set_title(f'{title} - {metric.upper()}')\n",
    "        ax.legend()\n",
    "        ax.grid(True, alpha=0.3)\n",
    "    \n",
    "    plt.tight_layout()\n",
    "    return fig, axes"
   ]
  },
  {
   "cell_type": "code",
   "execution_count": null,
   "metadata": {},
   "outputs": [],
   "source": [
    "# Test comparison visualization\n",
    "test_methods = {\n",
    "    'Method A': {'mse': np.random.random(10) * 0.1, 'mae': np.random.random(10) * 0.05},\n",
    "    'Method B': {'mse': np.random.random(10) * 0.15, 'mae': np.random.random(10) * 0.08}\n",
    "}\n",
    "\n",
    "fig, axes = comparison(test_methods)\n",
    "plt.show()"
   ]
  },
  {
   "cell_type": "markdown",
   "metadata": {},
   "source": [
    "## RBE Summary Dashboard"
   ]
  },
  {
   "cell_type": "code",
   "execution_count": null,
   "metadata": {},
   "outputs": [],
   "source": [
    "#| export\n",
    "def summary(rbe_result, true_states=None, title='RBE Summary', figsize=(15, 10)):\n",
    "    \"Create comprehensive summary visualization of RBE results\"\n",
    "    fig = plt.figure(figsize=figsize)\n",
    "    gs = fig.add_gridspec(2, 2, hspace=0.3, wspace=0.3)\n",
    "    \n",
    "    # 1. Final particle distribution (top left)\n",
    "    ax1 = fig.add_subplot(gs[0, 0])\n",
    "    if 'particles' in rbe_result and 'weights' in rbe_result:\n",
    "        final_particles = rbe_result['particles'][-1]\n",
    "        final_weights = rbe_result['weights'][-1]\n",
    "        particles(final_particles, final_weights, 'Final Particle Distribution', ax=ax1)\n",
    "    \n",
    "    # 2. Estimates over time (top right)\n",
    "    ax2 = fig.add_subplot(gs[0, 1])\n",
    "    estimates = rbe_result['estimates']\n",
    "    time_steps = np.arange(len(estimates))\n",
    "    \n",
    "    if estimates.ndim == 2 and estimates.shape[1] >= 2:\n",
    "        ax2.plot(time_steps, estimates[:, 0], 'b-', label='Dim 1', marker='o')\n",
    "        ax2.plot(time_steps, estimates[:, 1], 'r-', label='Dim 2', marker='s')\n",
    "        if true_states is not None:\n",
    "            true_states = np.array(true_states)\n",
    "            ax2.plot(time_steps, true_states[:, 0], 'b--', alpha=0.7, label='True Dim 1')\n",
    "            ax2.plot(time_steps, true_states[:, 1], 'r--', alpha=0.7, label='True Dim 2')\n",
    "    else:\n",
    "        ax2.plot(time_steps, estimates.flatten(), 'b-', marker='o', label='Estimate')\n",
    "        if true_states is not None:\n",
    "            ax2.plot(time_steps, np.array(true_states).flatten(), 'r--', alpha=0.7, label='True')\n",
    "    \n",
    "    ax2.set_xlabel('Time Step')\n",
    "    ax2.set_ylabel('State Value')\n",
    "    ax2.set_title('Estimates Over Time')\n",
    "    ax2.legend()\n",
    "    ax2.grid(True, alpha=0.3)\n",
    "    \n",
    "    # 3. Effective sample size (bottom left)\n",
    "    ax3 = fig.add_subplot(gs[1, 0])\n",
    "    if 'eff_sizes' in rbe_result:\n",
    "        eff_sizes = rbe_result['eff_sizes']\n",
    "    elif 'weights' in rbe_result:\n",
    "        eff_sizes = [eff_size(w) for w in rbe_result['weights']]\n",
    "    else:\n",
    "        eff_sizes = None\n",
    "    \n",
    "    if eff_sizes is not None:\n",
    "        ax3.plot(np.arange(len(eff_sizes)), eff_sizes, 'g-', marker='o')\n",
    "        if 'particles' in rbe_result:\n",
    "            n_particles = len(rbe_result['particles'][0])\n",
    "            ax3.axhline(n_particles/2, color='r', linestyle='--', alpha=0.7, label='N/2')\n",
    "        ax3.set_xlabel('Time Step')\n",
    "        ax3.set_ylabel('Effective Sample Size')\n",
    "        ax3.set_title('Particle Filter Health')\n",
    "        ax3.legend()\n",
    "        ax3.grid(True, alpha=0.3)\n",
    "    \n",
    "    # 4. Error metrics (bottom right)\n",
    "    ax4 = fig.add_subplot(gs[1, 1])\n",
    "    if true_states is not None:\n",
    "        errors = np.array(true_states) - estimates\n",
    "        if errors.ndim == 2:\n",
    "            error_norms = np.linalg.norm(errors, axis=1)\n",
    "        else:\n",
    "            error_norms = np.abs(errors)\n",
    "        \n",
    "        ax4.plot(time_steps, error_norms, 'r-', marker='o')\n",
    "        ax4.set_xlabel('Time Step')\n",
    "        ax4.set_ylabel('Estimation Error')\n",
    "        ax4.set_title('Error Over Time')\n",
    "        \n",
    "        # Add summary statistics\n",
    "        rmse = np.sqrt(np.mean(error_norms**2))\n",
    "        mae = np.mean(error_norms)\n",
    "        ax4.text(0.02, 0.98, f'RMSE: {rmse:.4f}\\nMAE: {mae:.4f}', \n",
    "                transform=ax4.transAxes, va='top',\n",
    "                bbox=dict(boxstyle='round', facecolor='lightgray', alpha=0.8))\n",
    "    else:\n",
    "        ax4.text(0.5, 0.5, 'No true states\\nprovided', ha='center', va='center', \n",
    "                transform=ax4.transAxes, fontsize=12)\n",
    "        ax4.set_title('Error Analysis')\n",
    "    ax4.grid(True, alpha=0.3)\n",
    "    \n",
    "    fig.suptitle(title, fontsize=16)\n",
    "    return fig"
   ]
  },
  {
   "cell_type": "code",
   "execution_count": null,
   "metadata": {},
   "outputs": [],
   "source": [
    "# Test summary visualization with mock data\n",
    "test_result = {\n",
    "    'estimates': np.random.random((10, 2)),\n",
    "    'particles': [rng.normal(0, 1, (50, 2)) for _ in range(11)],\n",
    "    'weights': [np.ones(50)/50 for _ in range(11)],\n",
    "    'eff_sizes': np.random.randint(20, 50, 11)\n",
    "}\n",
    "\n",
    "fig = summary(test_result)\n",
    "plt.show()"
   ]
  },
  {
   "cell_type": "markdown",
   "metadata": {},
   "source": [
    "## Animated Particle Evolution"
   ]
  },
  {
   "cell_type": "code",
   "execution_count": null,
   "metadata": {},
   "outputs": [],
   "source": [
    "#| export\n",
    "def animate_particles(particle_history, weight_history, \n",
    "                     observations=None, estimates=None,\n",
    "                     interval=200, figsize=(10, 8)):\n",
    "    \"Create animation of particle evolution (returns animation instructions)\"\n",
    "    # Note: In FastHTML, this would return instructions for JavaScript animation\n",
    "    # Here we return the setup for potential matplotlib animation\n",
    "    \n",
    "    n_steps = len(particle_history)\n",
    "    \n",
    "    return {\n",
    "        'n_frames': n_steps,\n",
    "        'interval': interval,\n",
    "        'particle_history': particle_history,\n",
    "        'weight_history': weight_history,\n",
    "        'observations': observations,\n",
    "        'estimates': estimates,\n",
    "        'figsize': figsize\n",
    "    }"
   ]
  },
  {
   "cell_type": "markdown",
   "metadata": {},
   "source": [
    "## Uncertainty Visualization"
   ]
  },
  {
   "cell_type": "code",
   "execution_count": null,
   "metadata": {},
   "outputs": [],
   "source": [
    "#| export\n",
    "def uncertainty_bands(estimates, particles, weights, \n",
    "                     confidence_levels=[0.5, 0.9], \n",
    "                     title='Estimates with Uncertainty',\n",
    "                     figsize=(10, 6)):\n",
    "    \"Plot estimates with uncertainty bands from particle distribution\"\n",
    "    fig, ax = plt.subplots(figsize=figsize)\n",
    "    \n",
    "    time_steps = np.arange(len(estimates))\n",
    "    estimates = np.array(estimates)\n",
    "    \n",
    "    # Plot estimates\n",
    "    if estimates.ndim == 1:\n",
    "        ax.plot(time_steps, estimates, 'b-', linewidth=2, label='Estimate')\n",
    "        \n",
    "        # Calculate uncertainty bands\n",
    "        for level, alpha in zip(confidence_levels, [0.3, 0.15]):\n",
    "            lower = []\n",
    "            upper = []\n",
    "            \n",
    "            for t, (p, w) in enumerate(zip(particles[1:], weights[1:])):\n",
    "                # Weighted quantiles\n",
    "                sorted_idx = np.argsort(p.flatten())\n",
    "                sorted_p = p.flatten()[sorted_idx]\n",
    "                sorted_w = w[sorted_idx]\n",
    "                cum_w = np.cumsum(sorted_w)\n",
    "                \n",
    "                lower_q = (1 - level) / 2\n",
    "                upper_q = 1 - lower_q\n",
    "                \n",
    "                lower_idx = np.searchsorted(cum_w, lower_q)\n",
    "                upper_idx = np.searchsorted(cum_w, upper_q)\n",
    "                \n",
    "                lower.append(sorted_p[lower_idx])\n",
    "                upper.append(sorted_p[upper_idx])\n",
    "            \n",
    "            ax.fill_between(time_steps, lower, upper, alpha=alpha, \n",
    "                          label=f'{level*100:.0f}% CI')\n",
    "    \n",
    "    ax.set_xlabel('Time Step')\n",
    "    ax.set_ylabel('State Value')\n",
    "    ax.set_title(title)\n",
    "    ax.legend()\n",
    "    ax.grid(True, alpha=0.3)\n",
    "    \n",
    "    return fig, ax"
   ]
  },
  {
   "cell_type": "markdown",
   "metadata": {},
   "source": [
    "## Export"
   ]
  },
  {
   "cell_type": "code",
   "execution_count": null,
   "metadata": {},
   "outputs": [],
   "source": [
    "#| export\n",
    "__all__ = [\n",
    "    # Style\n",
    "    'set_style',\n",
    "    \n",
    "    # Core visualizations\n",
    "    'particles', 'beliefs', 'comparison', 'summary',\n",
    "    \n",
    "    # Advanced visualizations\n",
    "    'animate_particles', 'uncertainty_bands'\n",
    "]"
   ]
  }
 ],
 "metadata": {
  "kernelspec": {
   "display_name": "python3",
   "language": "python",
   "name": "python3"
  }
 },
 "nbformat": 4,
 "nbformat_minor": 4
}
