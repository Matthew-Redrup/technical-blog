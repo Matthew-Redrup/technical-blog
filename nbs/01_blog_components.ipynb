{
 "cells": [
  {
   "cell_type": "markdown",
   "metadata": {},
   "source": [
    "# Blog Components\n",
    "\n",
    "> Reusable components for the technical blog"
   ]
  },
  {
   "cell_type": "code",
   "execution_count": null,
   "metadata": {},
   "outputs": [],
   "source": [
    "#| default_exp blog_components"
   ]
  },
  {
   "cell_type": "code",
   "execution_count": null,
   "metadata": {},
   "outputs": [],
   "source": [
    "#| hide\n",
    "from nbdev.showdoc import *"
   ]
  },
  {
   "cell_type": "code",
   "execution_count": null,
   "metadata": {},
   "outputs": [],
   "source": [
    "#| export\n",
    "from fasthtml.common import *\n",
    "from monsterui.all import *\n",
    "from typing import List, Dict, Any"
   ]
  },
  {
   "cell_type": "markdown",
   "metadata": {},
   "source": [
    "## Navigation Components"
   ]
  },
  {
   "cell_type": "code",
   "execution_count": null,
   "metadata": {},
   "outputs": [],
   "source": [
    "#| export\n",
    "def create_navigation(current_topic: str = None) -> NavBar:\n",
    "    \"\"\"Create the main navigation bar for the blog using MonsterUI NavBar\"\"\"\n",
    "    nav_items = [\n",
    "        ('Home', '/'),\n",
    "        ('RBE Series', '/rbe/'),\n",
    "        ('Future Topics', '/topics/'),\n",
    "        ('About', '/about/')\n",
    "    ]\n",
    "    \n",
    "    # Create navigation links\n",
    "    nav_links = []\n",
    "    for title, url in nav_items:\n",
    "        # Check if this item should be active\n",
    "        is_active = False\n",
    "        if current_topic:\n",
    "            if title.lower().startswith(current_topic.lower()) or \\\n",
    "               (current_topic.lower() == \"home\" and title == \"Home\") or \\\n",
    "               (current_topic.lower() == \"rbe\" and title == \"RBE Series\"):\n",
    "                is_active = True\n",
    "        \n",
    "        # Add styling for active state\n",
    "        link_cls = \"nav-link font-medium px-3 py-2 rounded-md transition-colors\"\n",
    "        if is_active:\n",
    "            link_cls += \" bg-primary text-primary-foreground\"\n",
    "        else:\n",
    "            link_cls += \" text-muted-foreground hover:text-foreground hover:bg-muted\"\n",
    "            \n",
    "        nav_links.append(A(title, href=url, cls=link_cls))\n",
    "    \n",
    "    # Add MonsterUI ThemePicker (mode only for dark/light toggle)\n",
    "    theme_toggle = ThemePicker(\n",
    "        color=False,\n",
    "        radii=False, \n",
    "        shadows=False,\n",
    "        font=False,\n",
    "        mode=True,\n",
    "        cls=\"p-2\"\n",
    "    )\n",
    "    \n",
    "    # Create brand/title\n",
    "    brand = Div(\n",
    "        H3(\"Matthew Redrup's Blog\", cls=\"text-lg font-bold text-foreground\"),\n",
    "        P(\"Ramblings on AI & Cybersecurity\", cls=\"text-sm text-muted-foreground hidden sm:block\"),\n",
    "        cls=\"flex flex-col\"\n",
    "    )\n",
    "    \n",
    "    return NavBar(\n",
    "        *nav_links,\n",
    "        theme_toggle,\n",
    "        brand=brand,\n",
    "        cls=\"border-b\"\n",
    "    )"
   ]
  },
  {
   "cell_type": "markdown",
   "metadata": {},
   "source": [
    "## Topic Cards"
   ]
  },
  {
   "cell_type": "code",
   "execution_count": null,
   "metadata": {},
   "outputs": [],
   "source": [
    "#| export\n",
    "def topic_card(title: str, description: str, url: str, status: str = \"available\") -> Div:\n",
    "    \"\"\"Create a card for a blog topic\"\"\"\n",
    "    status_class = f\"topic-{status}\"\n",
    "    \n",
    "    return Div(\n",
    "        H3(title),\n",
    "        P(description),\n",
    "        A(\"Read More →\", href=url, cls=\"topic-link\") if status == \"available\" else Span(\"Coming Soon\", cls=\"coming-soon\"),\n",
    "        cls=f\"topic-card {status_class}\"\n",
    "    )"
   ]
  },
  {
   "cell_type": "markdown",
   "metadata": {},
   "source": [
    "## Mathematical Rendering"
   ]
  },
  {
   "cell_type": "code",
   "execution_count": null,
   "metadata": {},
   "outputs": [],
   "source": [
    "#| export\n",
    "def math_block(latex: str, block: bool = True) -> Div:\n",
    "    \"\"\"Render LaTeX mathematics using KatexMarkdownJS\"\"\"\n",
    "    delimiter = \"$$\" if block else \"$\"\n",
    "    math_content = f\"{delimiter}{latex}{delimiter}\"\n",
    "    \n",
    "    return Div(\n",
    "        math_content,\n",
    "        cls=\"marked math-content\" if block else \"marked math-inline\"\n",
    "    )"
   ]
  },
  {
   "cell_type": "markdown",
   "metadata": {},
   "source": [
    "## Code Display Components"
   ]
  },
  {
   "cell_type": "code",
   "execution_count": null,
   "metadata": {},
   "outputs": [],
   "source": [
    "#| export\n",
    "def code_block(code: str, language: str = \"python\", title: str = None) -> Div:\n",
    "    \"\"\"Create a syntax-highlighted code block using FastHTML's HighlightJS\"\"\"\n",
    "    code_element = Pre(\n",
    "        Code(code, cls=f\"language-{language}\")\n",
    "    )\n",
    "    \n",
    "    if title:\n",
    "        return Div(\n",
    "            Div(title, cls=\"code-title\"),\n",
    "            code_element,\n",
    "            cls=\"code-block-container\"\n",
    "        )\n",
    "    else:\n",
    "        return Div(code_element, cls=\"code-block-container\")"
   ]
  },
  {
   "cell_type": "code",
   "execution_count": null,
   "metadata": {},
   "outputs": [],
   "source": []
  }
 ],
 "metadata": {
  "kernelspec": {
   "display_name": "python3",
   "language": "python",
   "name": "python3"
  }
 },
 "nbformat": 4,
 "nbformat_minor": 4
}
