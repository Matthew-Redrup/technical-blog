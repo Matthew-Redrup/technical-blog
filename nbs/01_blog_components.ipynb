{
 "cells": [
  {
   "cell_type": "markdown",
   "metadata": {},
   "source": [
    "# Blog Components\n",
    "\n",
    "> Reusable components for the technical blog"
   ]
  },
  {
   "cell_type": "code",
   "execution_count": null,
   "metadata": {},
   "outputs": [],
   "source": [
    "#| default_exp blog_components"
   ]
  },
  {
   "cell_type": "code",
   "metadata": {},
   "outputs": [],
   "source": "#| hide\nfrom nbdev.showdoc import *\nfrom fastcore.test import *"
  },
  {
   "cell_type": "code",
   "metadata": {},
   "outputs": [],
   "source": "#| export\nfrom fasthtml.common import *\nfrom monsterui.all import *\nfrom typing import List, Dict, Any\n\n__all__ = ['create_nav', 'topic_card', 'math_block', 'code_block']"
  },
  {
   "cell_type": "markdown",
   "metadata": {},
   "source": [
    "## Navigation Components"
   ]
  },
  {
   "cell_type": "code",
   "metadata": {},
   "outputs": [],
   "source": "#| export\ndef create_nav(topic: str = None) -> NavBar:\n    \"Create main navigation with MonsterUI `NavBar` for current `topic`\"\n    nav_items = [\n        ('Home', '/'),\n        ('RBE Series', '/rbe/'),\n        ('Future Topics', '/topics/'),\n        ('About', '/about/')\n    ]\n    \n    # Create navigation links\n    nav_links = []\n    for title, url in nav_items:\n        # Check if this item should be active\n        is_active = False\n        if topic:\n            if title.lower().startswith(topic.lower()) or \\\n               (topic.lower() == \"home\" and title == \"Home\") or \\\n               (topic.lower() == \"rbe\" and title == \"RBE Series\"):\n                is_active = True\n        \n        # Add styling for active state\n        link_cls = \"nav-link font-medium px-3 py-2 rounded-md transition-colors\"\n        if is_active:\n            link_cls += \" bg-primary text-primary-foreground\"\n        else:\n            link_cls += \" text-muted-foreground hover:text-foreground hover:bg-muted\"\n            \n        nav_links.append(A(title, href=url, cls=link_cls))\n    \n    # Add MonsterUI ThemePicker (mode only for dark/light toggle)\n    theme_toggle = ThemePicker(\n        color=False,\n        radii=False, \n        shadows=False,\n        font=False,\n        mode=True,\n        cls=\"p-2\"\n    )\n    \n    # Create brand/title\n    brand = Div(\n        H3(\"Matthew Redrup's Blog\", cls=\"text-lg font-bold text-foreground\"),\n        P(\"Ramblings on AI & Cybersecurity\", cls=\"text-sm text-muted-foreground hidden sm:block\"),\n        cls=\"flex flex-col\"\n    )\n    \n    return NavBar(\n        *nav_links,\n        theme_toggle,\n        brand=brand,\n        cls=\"border-b\"\n    )"
  },
  {
   "cell_type": "code",
   "source": "# Test create_nav - simplified for debugging\nnav = create_nav(\"home\")\nprint(f\"NavBar type: {type(nav)}\")\nprint(f\"NavBar children count: {len(nav.children)}\")\nfor i, child in enumerate(nav.children):\n    print(f\"Child {i}: {type(child).__name__} - {getattr(child, 'cls', 'no cls')}\")\n\n# Basic test that it's a NavBar\nassert hasattr(nav, 'brand'), \"Should have brand attribute\"\nassert hasattr(nav, 'children'), \"Should have children attribute\"",
   "metadata": {},
   "outputs": []
  },
  {
   "cell_type": "code",
   "metadata": {},
   "source": "#| export\ndef topic_card(title: str, desc: str, url: str, status: str = \"available\") -> Div:\n    \"Create a card for blog `title` with `desc`ription and `url`\"\n    status_cls = f\"topic-{status}\"\n    \n    return Div(\n        H3(title),\n        P(desc),\n        A(\"Read More →\", href=url, cls=\"topic-link\") if status == \"available\" else Span(\"Coming Soon\", cls=\"coming-soon\"),\n        cls=f\"topic-card {status_cls}\"\n    )",
   "outputs": []
  },
  {
   "cell_type": "code",
   "source": "# Test topic_card\ncard = topic_card(\"Test Topic\", \"A test description\", \"/test/\", \"available\")\ntest_eq(card.children[0].children[0], \"Test Topic\")\ntest_eq(card.children[1].children[0], \"A test description\")\ntest_eq(card.children[2].href, \"/test/\")\n\n# Test coming soon status\ncard_soon = topic_card(\"Future\", \"Coming later\", \"/future/\", \"coming soon\")\ntest_eq(card_soon.children[2].children[0], \"Coming Soon\")",
   "metadata": {},
   "outputs": []
  },
  {
   "cell_type": "code",
   "metadata": {},
   "outputs": [],
   "source": "#| export\ndef math_block(tex: str, block: bool = True) -> Div:\n    \"Render LaTeX `tex` using KatexMarkdownJS\"\n    delim = \"$$\" if block else \"$\"\n    content = f\"{delim}{tex}{delim}\"\n    \n    return Div(\n        content,\n        cls=\"marked math-content\" if block else \"marked math-inline\"\n    )"
  },
  {
   "cell_type": "code",
   "source": "# Test math_block\nmath = math_block(\"x^2 + y^2 = z^2\")\ntest_eq(math.children[0], \"$$x^2 + y^2 = z^2$$\")\ntest_eq(math.cls, \"marked math-content\")\n\n# Test inline math\ninline = math_block(\"E = mc^2\", block=False)\ntest_eq(inline.children[0], \"$E = mc^2$\")\ntest_eq(inline.cls, \"marked math-inline\")",
   "metadata": {},
   "outputs": []
  },
  {
   "cell_type": "code",
   "source": "# Test code_block\ncb = code_block(\"print('hello')\", \"python\")\ntest_eq(cb.children[0].children[0].children[0], \"print('hello')\")\ntest_eq(cb.children[0].children[0].cls, \"language-python\")\n\n# Test with title\ncb_titled = code_block(\"const x = 42;\", \"javascript\", \"Example Code\")\ntest_eq(len(cb_titled.children), 2)\ntest_eq(cb_titled.children[0].children[0], \"Example Code\")",
   "metadata": {},
   "outputs": []
  },
  {
   "cell_type": "markdown",
   "metadata": {},
   "source": [
    "## Code Display Components"
   ]
  },
  {
   "cell_type": "code",
   "execution_count": null,
   "metadata": {},
   "outputs": [],
   "source": [
    "#| export\n",
    "def code_block(code: str, language: str = \"python\", title: str = None) -> Div:\n",
    "    \"\"\"Create a syntax-highlighted code block using FastHTML's HighlightJS\"\"\"\n",
    "    code_element = Pre(\n",
    "        Code(code, cls=f\"language-{language}\")\n",
    "    )\n",
    "    \n",
    "    if title:\n",
    "        return Div(\n",
    "            Div(title, cls=\"code-title\"),\n",
    "            code_element,\n",
    "            cls=\"code-block-container\"\n",
    "        )\n",
    "    else:\n",
    "        return Div(code_element, cls=\"code-block-container\")"
   ]
  }
 ],
 "metadata": {
  "kernelspec": {
   "display_name": "python3",
   "language": "python",
   "name": "python3"
  }
 },
 "nbformat": 4,
 "nbformat_minor": 4
}