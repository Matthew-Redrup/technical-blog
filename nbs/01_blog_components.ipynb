{
 "cells": [
  {
   "cell_type": "markdown",
   "metadata": {},
   "source": [
    "# Blog Components\n",
    "\n",
    "> Reusable components for the technical blog"
   ]
  },
  {
   "cell_type": "code",
   "execution_count": null,
   "metadata": {},
   "outputs": [],
   "source": [
    "#| default_exp blog_components"
   ]
  },
  {
   "cell_type": "code",
   "execution_count": null,
   "metadata": {},
   "outputs": [],
   "source": [
    "#| hide\n",
    "from nbdev.showdoc import *\n",
    "from fastcore.test import *"
   ]
  },
  {
   "cell_type": "code",
   "execution_count": null,
   "metadata": {},
   "outputs": [],
   "source": [
    "#| export\n",
    "from fasthtml.common import *\n",
    "from monsterui.all import *\n",
    "from typing import List, Dict, Any\n",
    "\n",
    "__all__ = ['create_nav', 'topic_card', 'math_block', 'code_block']"
   ]
  },
  {
   "cell_type": "markdown",
   "metadata": {},
   "source": [
    "## Navigation Components"
   ]
  },
  {
   "cell_type": "code",
   "execution_count": null,
   "metadata": {},
   "outputs": [],
   "source": [
    "#| export\n",
    "def create_nav_links(nav_items, current_topic=None):\n",
    "    \"\"\"Create navigation links with active state handling\"\"\"\n",
    "    \n",
    "    def is_active_link(title, topic):\n",
    "        if not topic: return False\n",
    "        return (title.lower().startswith(topic.lower()) or \n",
    "                (topic.lower() == \"home\" and title == \"Home\") or\n",
    "                (topic.lower() == \"rbe\" and title == \"RBE Series\"))\n",
    "    \n",
    "    def nav_link(title, url, active=False):\n",
    "        \"\"\"Create a navigation link using MonsterUI Button component\"\"\"\n",
    "        variant = \"default\" if active else \"ghost\"\n",
    "        return Button(\n",
    "            title,\n",
    "            href=url,\n",
    "            variant=variant,\n",
    "            size=\"sm\",\n",
    "            cls=\"transition-colors\"\n",
    "        )\n",
    "    \n",
    "    return [nav_link(title, url, is_active_link(title, current_topic)) \n",
    "            for title, url in nav_items]\n",
    "\n"
   ]
  },
  {
   "cell_type": "code",
   "execution_count": null,
   "metadata": {},
   "outputs": [
    {
     "data": {
      "text/html": [
       "[button(('Home',),{'href': '/', 'variant': 'default', 'size': 'sm', 'type': 'submit', 'class': 'uk-btn transition-colors'}), button(('RBE Series',),{'href': '/rbe/', 'variant': 'ghost', 'size': 'sm', 'type': 'submit', 'class': 'uk-btn transition-colors'}), button(('Future Topics',),{'href': '/topics/', 'variant': 'ghost', 'size': 'sm', 'type': 'submit', 'class': 'uk-btn transition-colors'}), button(('About',),{'href': '/about/', 'variant': 'ghost', 'size': 'sm', 'type': 'submit', 'class': 'uk-btn transition-colors'})]"
      ],
      "text/plain": [
       "<IPython.core.display.HTML object>"
      ]
     },
     "execution_count": null,
     "metadata": {},
     "output_type": "execute_result"
    }
   ],
   "source": [
    "from IPython.display import HTML\n",
    "\n",
    "nav_items = [\n",
    "        ('Home', '/'),\n",
    "        ('RBE Series', '/rbe/'),\n",
    "        ('Future Topics', '/topics/'),\n",
    "        ('About', '/about/')\n",
    "    ]\n",
    "\n",
    "n_links = create_nav_links(nav_items, \"home\")\n",
    "HTML(str(n_links))"
   ]
  },
  {
   "cell_type": "code",
   "execution_count": null,
   "metadata": {},
   "outputs": [],
   "source": [
    "#| export\n",
    "def create_brand(title=\"Matthew Redrup's Blog\", subtitle=\"Ramblings on AI & Cybersecurity\"):\n",
    "    \"\"\"Create the brand/header section\"\"\"\n",
    "    return Div(\n",
    "        H3(title, cls=\"font-bold\"),\n",
    "        P(subtitle, cls=\"text-muted-foreground hidden sm:block text-sm\"),\n",
    "        cls=\"flex flex-col\"\n",
    "    )"
   ]
  },
  {
   "cell_type": "code",
   "execution_count": null,
   "metadata": {},
   "outputs": [],
   "source": [
    "from IPython.display import HTML\n",
    "brand = create_brand()\n",
    "HTML(str(brand))"
   ]
  },
  {
   "cell_type": "code",
   "execution_count": null,
   "metadata": {},
   "outputs": [],
   "source": [
    "#| export\n",
    "def create_theme_toggle():\n",
    "    \"\"\"Create theme toggle that works with MonsterUI's system\"\"\"\n",
    "    return Div(\n",
    "        Button(\"☀️\", \n",
    "               onclick=\"\"\"\n",
    "               const franken = JSON.parse(localStorage.getItem('__FRANKEN__') || '{}');\n",
    "               franken.mode = 'light';\n",
    "               localStorage.setItem('__FRANKEN__', JSON.stringify(franken));\n",
    "               document.documentElement.classList.remove('dark');\n",
    "               \"\"\", \n",
    "               variant=\"ghost\", size=\"sm\", cls=\"transition-colors\"),\n",
    "        Button(\"🌙\", \n",
    "               onclick=\"\"\"\n",
    "               const franken = JSON.parse(localStorage.getItem('__FRANKEN__') || '{}');\n",
    "               franken.mode = 'dark';\n",
    "               localStorage.setItem('__FRANKEN__', JSON.stringify(franken));\n",
    "               document.documentElement.classList.add('dark');\n",
    "               \"\"\", \n",
    "               variant=\"ghost\", size=\"sm\", cls=\"transition-colors\"),\n",
    "        cls=\"flex gap-1\"\n",
    "    )\n"
   ]
  },
  {
   "cell_type": "code",
   "execution_count": null,
   "metadata": {},
   "outputs": [
    {
     "data": {
      "text/html": [
       "<div class=\"flex gap-1\"><button onclick=\"\n",
       "               const franken = JSON.parse(localStorage.getItem('__FRANKEN__') || '{}');\n",
       "               franken.mode = 'light';\n",
       "               localStorage.setItem('__FRANKEN__', JSON.stringify(franken));\n",
       "               document.documentElement.classList.remove('dark');\n",
       "               \" variant=\"ghost\" size=\"sm\" type=\"submit\" class=\"uk-btn transition-colors\">☀️</button><button onclick=\"\n",
       "               const franken = JSON.parse(localStorage.getItem('__FRANKEN__') || '{}');\n",
       "               franken.mode = 'dark';\n",
       "               localStorage.setItem('__FRANKEN__', JSON.stringify(franken));\n",
       "               document.documentElement.classList.add('dark');\n",
       "               \" variant=\"ghost\" size=\"sm\" type=\"submit\" class=\"uk-btn transition-colors\">🌙</button></div>"
      ],
      "text/plain": [
       "<IPython.core.display.HTML object>"
      ]
     },
     "execution_count": null,
     "metadata": {},
     "output_type": "execute_result"
    }
   ],
   "source": [
    "from IPython.display import HTML\n",
    "toggle = create_theme_toggle()\n",
    "HTML(str(toggle))"
   ]
  },
  {
   "cell_type": "markdown",
   "metadata": {},
   "source": [
    "## FastHTML Navigation Component with Custom Theme Toggle\n",
    "\n",
    "This code demonstrates how to create a modular, reusable navigation component for FastHTML applications using MonsterUI styling. The key improvements over monolithic route definitions include:\n",
    "\n",
    "### Component Separation Benefits\n",
    "- **Maintainability**: Each function has a single responsibility\n",
    "- **Reusability**: Components can be used across different routes\n",
    "- **Testability**: Individual components can be tested in isolation\n",
    "- **Readability**: Clear separation of concerns makes code easier to understand\n",
    "\n",
    "### Key Components\n",
    "\n",
    "#### 1. Navigation Links (`create_nav_links`)\n",
    "- Uses MonsterUI `Button` components instead of manual CSS classes\n",
    "- Handles active state logic cleanly with helper functions\n",
    "- Returns a list of styled navigation buttons\n",
    "\n",
    "#### 2. Brand Section (`create_brand`)\n",
    "- Separates the site title and subtitle into its own component\n",
    "- Uses semantic HTML with consistent styling\n",
    "- Easily customizable through parameters\n",
    "\n",
    "#### 3. Custom Theme Toggle (`create_theme_toggle`)\n",
    "- **Key Discovery**: MonsterUI uses localStorage with the key `\"__FRANKEN__\"` to persist theme preferences\n",
    "- Manually toggles the `dark` class on `document.documentElement`\n",
    "- Uses matching MonsterUI Button styling for visual consistency\n",
    "- Bypasses the complex `Uk_theme_switcher` component that had alignment issues\n",
    "\n",
    "### Theme Toggle Implementation Details\n",
    "\n",
    "The theme toggle works by:\n",
    "1. Reading the current theme state from `localStorage.getItem('__FRANKEN__')`\n",
    "2. Updating the `mode` property in the stored object\n",
    "3. Saving back to localStorage\n",
    "4. Immediately applying the theme by adding/removing the `dark` class\n",
    "\n",
    "This approach integrates seamlessly with MonsterUI's theme system while providing better visual alignment with navigation buttons.\n",
    "\n",
    "### Usage\n",
    "Create navigation with active page indicator\n",
    "```python\n",
    "nav = create_nav(topic=\"home\")\n",
    "```\n",
    "\n",
    "Use in your FastHTML route\n",
    "```python\n",
    "@rt('/') def get(): return Title(\"My Site\"), nav, Main(...)\n",
    "```\n",
    "\n",
    "This pattern can be extended to other UI components like sidebars, footers, and forms."
   ]
  },
  {
   "cell_type": "code",
   "execution_count": null,
   "metadata": {},
   "outputs": [],
   "source": [
    "#| export\n",
    "def create_nav(topic: str = None) -> NavBar:\n",
    "    \"Create main navigation with MonsterUI `NavBar` for current `topic`\"\n",
    "    nav_items = [\n",
    "        ('Home', '/'),\n",
    "        ('RBE Series', '/rbe/'),\n",
    "        ('Future Topics', '/topics/'),\n",
    "        ('About', '/about/')\n",
    "    ]\n",
    "    \n",
    "    # Get all components\n",
    "    nav_links = create_nav_links(nav_items, topic)\n",
    "    brand = create_brand()\n",
    "    theme_toggle = create_theme_toggle()\n",
    "    \n",
    "    return NavBar(\n",
    "        *nav_links,\n",
    "        theme_toggle,\n",
    "        brand=brand,\n",
    "        cls=\"border-b\"\n",
    "    )"
   ]
  },
  {
   "cell_type": "code",
   "execution_count": null,
   "metadata": {},
   "outputs": [
    {
     "data": {
      "text/html": [
       "<div><div class=\"monster-navbar border-b navbar-underline\"><div class=\"flex justify-between items-center w-full\"><div class=\"flex flex-col\"><h3 class=\"uk-h3 font-bold\">Matthew Redrup&#x27;s Blog</h3><p class=\"text-muted-foreground hidden sm:block text-sm\">Ramblings on AI &amp; Cybersecurity</p></div><a class=\"md:hidden\" data-uk-toggle=\"target: #_9SWWDzGeSBeX0RmVzxTOaA; cls: hidden\"><uk-icon icon=\"menu\" height=\"30\" width=\"30\"></uk-icon></a><div class=\"items-center space-x-4 hidden md:flex\"><button href=\"/\" variant=\"default\" size=\"sm\" type=\"submit\" class=\"uk-btn transition-colors\">Home</button><button href=\"/rbe/\" variant=\"ghost\" size=\"sm\" type=\"submit\" class=\"uk-btn transition-colors\">RBE Series</button><button href=\"/topics/\" variant=\"ghost\" size=\"sm\" type=\"submit\" class=\"uk-btn transition-colors\">Future Topics</button><button href=\"/about/\" variant=\"ghost\" size=\"sm\" type=\"submit\" class=\"uk-btn transition-colors\">About</button><div class=\"flex gap-1\"><button onclick=\"\n",
       "               const franken = JSON.parse(localStorage.getItem('__FRANKEN__') || '{}');\n",
       "               franken.mode = 'light';\n",
       "               localStorage.setItem('__FRANKEN__', JSON.stringify(franken));\n",
       "               document.documentElement.classList.remove('dark');\n",
       "               \" variant=\"ghost\" size=\"sm\" type=\"submit\" class=\"uk-btn transition-colors\">☀️</button><button onclick=\"\n",
       "               const franken = JSON.parse(localStorage.getItem('__FRANKEN__') || '{}');\n",
       "               franken.mode = 'dark';\n",
       "               localStorage.setItem('__FRANKEN__', JSON.stringify(franken));\n",
       "               document.documentElement.classList.add('dark');\n",
       "               \" variant=\"ghost\" size=\"sm\" type=\"submit\" class=\"uk-btn transition-colors\">🌙</button></div></div></div></div><div class=\"flex flex-col items-center justify-center space-y-4 border-b navbar-underline hidden md:hidden monster-navbar\" id=\"_9SWWDzGeSBeX0RmVzxTOaA\"><button href=\"/\" variant=\"default\" size=\"sm\" type=\"submit\" class=\"uk-btn transition-colors\">Home</button><button href=\"/rbe/\" variant=\"ghost\" size=\"sm\" type=\"submit\" class=\"uk-btn transition-colors\">RBE Series</button><button href=\"/topics/\" variant=\"ghost\" size=\"sm\" type=\"submit\" class=\"uk-btn transition-colors\">Future Topics</button><button href=\"/about/\" variant=\"ghost\" size=\"sm\" type=\"submit\" class=\"uk-btn transition-colors\">About</button><div class=\"flex gap-1\"><button onclick=\"\n",
       "               const franken = JSON.parse(localStorage.getItem('__FRANKEN__') || '{}');\n",
       "               franken.mode = 'light';\n",
       "               localStorage.setItem('__FRANKEN__', JSON.stringify(franken));\n",
       "               document.documentElement.classList.remove('dark');\n",
       "               \" variant=\"ghost\" size=\"sm\" type=\"submit\" class=\"uk-btn transition-colors\">☀️</button><button onclick=\"\n",
       "               const franken = JSON.parse(localStorage.getItem('__FRANKEN__') || '{}');\n",
       "               franken.mode = 'dark';\n",
       "               localStorage.setItem('__FRANKEN__', JSON.stringify(franken));\n",
       "               document.documentElement.classList.add('dark');\n",
       "               \" variant=\"ghost\" size=\"sm\" type=\"submit\" class=\"uk-btn transition-colors\">🌙</button></div></div></div>"
      ],
      "text/plain": [
       "<IPython.core.display.HTML object>"
      ]
     },
     "execution_count": null,
     "metadata": {},
     "output_type": "execute_result"
    }
   ],
   "source": [
    "full_nav = create_nav('home')\n",
    "HTML(str(full_nav))"
   ]
  },
  {
   "cell_type": "code",
   "execution_count": null,
   "metadata": {},
   "outputs": [
    {
     "name": "stdout",
     "output_type": "stream",
     "text": [
      "NavBar type: <class 'fastcore.xml.FT'>\n",
      "NavBar children count: 2\n",
      "Child 0: FT - None\n",
      "Child 1: FT - None\n"
     ]
    }
   ],
   "source": [
    "# Test create_nav - simplified for debugging\n",
    "nav = create_nav(\"home\")\n",
    "print(f\"NavBar type: {type(nav)}\")\n",
    "print(f\"NavBar children count: {len(nav.children)}\")\n",
    "for i, child in enumerate(nav.children):\n",
    "    print(f\"Child {i}: {type(child).__name__} - {getattr(child, 'cls', 'no cls')}\")\n",
    "\n",
    "# Basic test that it's a NavBar\n",
    "assert hasattr(nav, 'brand'), \"Should have brand attribute\"\n",
    "assert hasattr(nav, 'children'), \"Should have children attribute\""
   ]
  },
  {
   "cell_type": "code",
   "execution_count": null,
   "metadata": {},
   "outputs": [],
   "source": [
    "#| export\n",
    "def topic_card(title: str, desc: str, url: str, status: str = \"available\") -> Div:\n",
    "    \"Create a card for blog `title` with `desc`ription and `url`\"\n",
    "    status_cls = f\"topic-{status}\"\n",
    "    \n",
    "    return Div(\n",
    "        H3(title),\n",
    "        P(desc),\n",
    "        A(\"Read More →\", href=url, cls=\"topic-link\") if status == \"available\" else Span(\"Coming Soon\", cls=\"coming-soon\"),\n",
    "        cls=f\"topic-card {status_cls}\"\n",
    "    )"
   ]
  },
  {
   "cell_type": "code",
   "execution_count": null,
   "metadata": {},
   "outputs": [],
   "source": [
    "# Test topic_card\n",
    "card = topic_card(\"Test Topic\", \"A test description\", \"/test/\", \"available\")\n",
    "test_eq(card.children[0].children[0], \"Test Topic\")\n",
    "test_eq(card.children[1].children[0], \"A test description\")\n",
    "test_eq(card.children[2].href, \"/test/\")\n",
    "\n",
    "# Test coming soon status\n",
    "card_soon = topic_card(\"Future\", \"Coming later\", \"/future/\", \"coming soon\")\n",
    "test_eq(card_soon.children[2].children[0], \"Coming Soon\")"
   ]
  },
  {
   "cell_type": "code",
   "execution_count": null,
   "metadata": {},
   "outputs": [],
   "source": [
    "#| export\n",
    "def math_block(tex: str, block: bool = True) -> Div:\n",
    "    \"Render LaTeX `tex` using KatexMarkdownJS\"\n",
    "    delim = \"$$\" if block else \"$\"\n",
    "    content = f\"{delim}{tex}{delim}\"\n",
    "    \n",
    "    return Div(\n",
    "        content,\n",
    "        cls=\"marked math-content\" if block else \"marked math-inline\"\n",
    "    )"
   ]
  },
  {
   "cell_type": "code",
   "execution_count": null,
   "metadata": {},
   "outputs": [],
   "source": [
    "# Test math_block\n",
    "math = math_block(\"x^2 + y^2 = z^2\")\n",
    "test_eq(math.children[0], \"$$x^2 + y^2 = z^2$$\")\n",
    "# FastHTML components store class in attrs dict, not directly as cls\n",
    "test_eq(math.attrs.get('class'), \"marked math-content\")\n",
    "\n",
    "# Test inline math\n",
    "inline = math_block(\"E = mc^2\", block=False)\n",
    "test_eq(inline.children[0], \"$E = mc^2$\")\n",
    "test_eq(inline.attrs.get('class'), \"marked math-inline\")"
   ]
  },
  {
   "cell_type": "markdown",
   "metadata": {},
   "source": [
    "## Code Display Components"
   ]
  },
  {
   "cell_type": "code",
   "execution_count": null,
   "metadata": {},
   "outputs": [],
   "source": [
    "#| export\n",
    "def code_block(code: str, language: str = \"python\", title: str = None) -> Div:\n",
    "    \"\"\"Create a syntax-highlighted code block using FastHTML's HighlightJS\"\"\"\n",
    "    code_element = Pre(\n",
    "        Code(code, cls=f\"language-{language}\")\n",
    "    )\n",
    "    \n",
    "    if title:\n",
    "        return Div(\n",
    "            Div(title, cls=\"code-title\"),\n",
    "            code_element,\n",
    "            cls=\"code-block-container\"\n",
    "        )\n",
    "    else:\n",
    "        return Div(code_element, cls=\"code-block-container\")"
   ]
  }
 ],
 "metadata": {
  "kernelspec": {
   "display_name": "python3",
   "language": "python",
   "name": "python3"
  }
 },
 "nbformat": 4,
 "nbformat_minor": 4
}
